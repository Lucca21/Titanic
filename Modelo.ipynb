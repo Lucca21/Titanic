{
    "cells": [
        {
            "metadata": {},
            "cell_type": "markdown",
            "source": "## O objetivo do modelo \u00e9 tentar prever se uma determinada pessoa sobreviveu ou n\u00e3o ao acidente do Titanic, baseado em variaveis como Sexo, idade, cabine e etc..."
        },
        {
            "metadata": {},
            "cell_type": "markdown",
            "source": "## 1 - Importando bibliotecas e os Datasets"
        },
        {
            "metadata": {},
            "cell_type": "code",
            "source": "\nimport types\nimport pandas as pd\nfrom botocore.client import Config\nimport ibm_boto3\n\ndef __iter__(self): return 0\n\n# @hidden_cell\n# The following code accesses a file in your IBM Cloud Object Storage. It includes your credentials.\n# You might want to remove those credentials before you share the notebook.\nclient_bc35090cb55e457e8fa8a5d7dedb014e = ibm_boto3.client(service_name='s3',\n    ibm_api_key_id='x86QfTz27smAKrYS1l5DZJ3g8f-vm72FM_WBAr26vg0S',\n    ibm_auth_endpoint=\"https://iam.cloud.ibm.com/oidc/token\",\n    config=Config(signature_version='oauth'),\n    endpoint_url='https://s3-api.us-geo.objectstorage.service.networklayer.com')\n\nbody = client_bc35090cb55e457e8fa8a5d7dedb014e.get_object(Bucket='projetoml-donotdelete-pr-zzv4rae25mycdq',Key='test.csv')['Body']\n# add missing __iter__ method, so pandas accepts body as file-like object\nif not hasattr(body, \"__iter__\"): body.__iter__ = types.MethodType( __iter__, body )\n\ntest = pd.read_csv(body)\ntest.head()\n",
            "execution_count": 1,
            "outputs": [
                {
                    "output_type": "execute_result",
                    "execution_count": 1,
                    "data": {
                        "text/plain": "   PassengerId  Pclass                                          Name     Sex  \\\n0          892       3                              Kelly, Mr. James    male   \n1          893       3              Wilkes, Mrs. James (Ellen Needs)  female   \n2          894       2                     Myles, Mr. Thomas Francis    male   \n3          895       3                              Wirz, Mr. Albert    male   \n4          896       3  Hirvonen, Mrs. Alexander (Helga E Lindqvist)  female   \n\n    Age  SibSp  Parch   Ticket     Fare Cabin Embarked  \n0  34.5      0      0   330911   7.8292   NaN        Q  \n1  47.0      1      0   363272   7.0000   NaN        S  \n2  62.0      0      0   240276   9.6875   NaN        Q  \n3  27.0      0      0   315154   8.6625   NaN        S  \n4  22.0      1      1  3101298  12.2875   NaN        S  ",
                        "text/html": "<div>\n<style scoped>\n    .dataframe tbody tr th:only-of-type {\n        vertical-align: middle;\n    }\n\n    .dataframe tbody tr th {\n        vertical-align: top;\n    }\n\n    .dataframe thead th {\n        text-align: right;\n    }\n</style>\n<table border=\"1\" class=\"dataframe\">\n  <thead>\n    <tr style=\"text-align: right;\">\n      <th></th>\n      <th>PassengerId</th>\n      <th>Pclass</th>\n      <th>Name</th>\n      <th>Sex</th>\n      <th>Age</th>\n      <th>SibSp</th>\n      <th>Parch</th>\n      <th>Ticket</th>\n      <th>Fare</th>\n      <th>Cabin</th>\n      <th>Embarked</th>\n    </tr>\n  </thead>\n  <tbody>\n    <tr>\n      <th>0</th>\n      <td>892</td>\n      <td>3</td>\n      <td>Kelly, Mr. James</td>\n      <td>male</td>\n      <td>34.5</td>\n      <td>0</td>\n      <td>0</td>\n      <td>330911</td>\n      <td>7.8292</td>\n      <td>NaN</td>\n      <td>Q</td>\n    </tr>\n    <tr>\n      <th>1</th>\n      <td>893</td>\n      <td>3</td>\n      <td>Wilkes, Mrs. James (Ellen Needs)</td>\n      <td>female</td>\n      <td>47.0</td>\n      <td>1</td>\n      <td>0</td>\n      <td>363272</td>\n      <td>7.0000</td>\n      <td>NaN</td>\n      <td>S</td>\n    </tr>\n    <tr>\n      <th>2</th>\n      <td>894</td>\n      <td>2</td>\n      <td>Myles, Mr. Thomas Francis</td>\n      <td>male</td>\n      <td>62.0</td>\n      <td>0</td>\n      <td>0</td>\n      <td>240276</td>\n      <td>9.6875</td>\n      <td>NaN</td>\n      <td>Q</td>\n    </tr>\n    <tr>\n      <th>3</th>\n      <td>895</td>\n      <td>3</td>\n      <td>Wirz, Mr. Albert</td>\n      <td>male</td>\n      <td>27.0</td>\n      <td>0</td>\n      <td>0</td>\n      <td>315154</td>\n      <td>8.6625</td>\n      <td>NaN</td>\n      <td>S</td>\n    </tr>\n    <tr>\n      <th>4</th>\n      <td>896</td>\n      <td>3</td>\n      <td>Hirvonen, Mrs. Alexander (Helga E Lindqvist)</td>\n      <td>female</td>\n      <td>22.0</td>\n      <td>1</td>\n      <td>1</td>\n      <td>3101298</td>\n      <td>12.2875</td>\n      <td>NaN</td>\n      <td>S</td>\n    </tr>\n  </tbody>\n</table>\n</div>"
                    },
                    "metadata": {}
                }
            ]
        },
        {
            "metadata": {},
            "cell_type": "code",
            "source": "\nbody = client_bc35090cb55e457e8fa8a5d7dedb014e.get_object(Bucket='projetoml-donotdelete-pr-zzv4rae25mycdq',Key='train.csv')['Body']\n# add missing __iter__ method, so pandas accepts body as file-like object\nif not hasattr(body, \"__iter__\"): body.__iter__ = types.MethodType( __iter__, body )\n\ntrain = pd.read_csv(body)\ntrain.head()\n",
            "execution_count": 2,
            "outputs": [
                {
                    "output_type": "execute_result",
                    "execution_count": 2,
                    "data": {
                        "text/plain": "   PassengerId  Survived  Pclass  \\\n0            1         0       3   \n1            2         1       1   \n2            3         1       3   \n3            4         1       1   \n4            5         0       3   \n\n                                                Name     Sex   Age  SibSp  \\\n0                            Braund, Mr. Owen Harris    male  22.0      1   \n1  Cumings, Mrs. John Bradley (Florence Briggs Th...  female  38.0      1   \n2                             Heikkinen, Miss. Laina  female  26.0      0   \n3       Futrelle, Mrs. Jacques Heath (Lily May Peel)  female  35.0      1   \n4                           Allen, Mr. William Henry    male  35.0      0   \n\n   Parch            Ticket     Fare Cabin Embarked  \n0      0         A/5 21171   7.2500   NaN        S  \n1      0          PC 17599  71.2833   C85        C  \n2      0  STON/O2. 3101282   7.9250   NaN        S  \n3      0            113803  53.1000  C123        S  \n4      0            373450   8.0500   NaN        S  ",
                        "text/html": "<div>\n<style scoped>\n    .dataframe tbody tr th:only-of-type {\n        vertical-align: middle;\n    }\n\n    .dataframe tbody tr th {\n        vertical-align: top;\n    }\n\n    .dataframe thead th {\n        text-align: right;\n    }\n</style>\n<table border=\"1\" class=\"dataframe\">\n  <thead>\n    <tr style=\"text-align: right;\">\n      <th></th>\n      <th>PassengerId</th>\n      <th>Survived</th>\n      <th>Pclass</th>\n      <th>Name</th>\n      <th>Sex</th>\n      <th>Age</th>\n      <th>SibSp</th>\n      <th>Parch</th>\n      <th>Ticket</th>\n      <th>Fare</th>\n      <th>Cabin</th>\n      <th>Embarked</th>\n    </tr>\n  </thead>\n  <tbody>\n    <tr>\n      <th>0</th>\n      <td>1</td>\n      <td>0</td>\n      <td>3</td>\n      <td>Braund, Mr. Owen Harris</td>\n      <td>male</td>\n      <td>22.0</td>\n      <td>1</td>\n      <td>0</td>\n      <td>A/5 21171</td>\n      <td>7.2500</td>\n      <td>NaN</td>\n      <td>S</td>\n    </tr>\n    <tr>\n      <th>1</th>\n      <td>2</td>\n      <td>1</td>\n      <td>1</td>\n      <td>Cumings, Mrs. John Bradley (Florence Briggs Th...</td>\n      <td>female</td>\n      <td>38.0</td>\n      <td>1</td>\n      <td>0</td>\n      <td>PC 17599</td>\n      <td>71.2833</td>\n      <td>C85</td>\n      <td>C</td>\n    </tr>\n    <tr>\n      <th>2</th>\n      <td>3</td>\n      <td>1</td>\n      <td>3</td>\n      <td>Heikkinen, Miss. Laina</td>\n      <td>female</td>\n      <td>26.0</td>\n      <td>0</td>\n      <td>0</td>\n      <td>STON/O2. 3101282</td>\n      <td>7.9250</td>\n      <td>NaN</td>\n      <td>S</td>\n    </tr>\n    <tr>\n      <th>3</th>\n      <td>4</td>\n      <td>1</td>\n      <td>1</td>\n      <td>Futrelle, Mrs. Jacques Heath (Lily May Peel)</td>\n      <td>female</td>\n      <td>35.0</td>\n      <td>1</td>\n      <td>0</td>\n      <td>113803</td>\n      <td>53.1000</td>\n      <td>C123</td>\n      <td>S</td>\n    </tr>\n    <tr>\n      <th>4</th>\n      <td>5</td>\n      <td>0</td>\n      <td>3</td>\n      <td>Allen, Mr. William Henry</td>\n      <td>male</td>\n      <td>35.0</td>\n      <td>0</td>\n      <td>0</td>\n      <td>373450</td>\n      <td>8.0500</td>\n      <td>NaN</td>\n      <td>S</td>\n    </tr>\n  </tbody>\n</table>\n</div>"
                    },
                    "metadata": {}
                }
            ]
        },
        {
            "metadata": {},
            "cell_type": "markdown",
            "source": "## Para o problema em quest\u00e3o, usarei um modelo de Random Forest"
        },
        {
            "metadata": {},
            "cell_type": "code",
            "source": "from sklearn.ensemble import RandomForestClassifier\nfrom sklearn.model_selection import train_test_split\nimport numpy as np ",
            "execution_count": 3,
            "outputs": []
        },
        {
            "metadata": {},
            "cell_type": "markdown",
            "source": "## 2 - Criando o Modelo e Tratando os dados"
        },
        {
            "metadata": {},
            "cell_type": "code",
            "source": "modelo = RandomForestClassifier(n_estimators = 100,\n                                n_jobs = 1, \n                                random_state = 0)",
            "execution_count": 4,
            "outputs": []
        },
        {
            "metadata": {},
            "cell_type": "code",
            "source": "## Transformando a feature \"Sex\" em bin\u00e1ria \ndef sex_bin(value):\n    if value == 'female':\n        return 1 \n    else: \n        return 0 \n        ",
            "execution_count": 5,
            "outputs": []
        },
        {
            "metadata": {},
            "cell_type": "code",
            "source": "train['Sex_bin'] = train['Sex'].map(sex_bin)\ntest['Sex_bin'] = test['Sex'].map(sex_bin)",
            "execution_count": 6,
            "outputs": []
        },
        {
            "metadata": {},
            "cell_type": "code",
            "source": "## Definindo features usadas no modelo\nvariaveis = ['Age','Sex_bin']\n",
            "execution_count": 7,
            "outputs": []
        },
        {
            "metadata": {},
            "cell_type": "code",
            "source": "x = train[variaveis]\ny = train['Survived']",
            "execution_count": 8,
            "outputs": []
        },
        {
            "metadata": {},
            "cell_type": "code",
            "source": "## Trantando os NaN's \n# Existem varios modos de lidar com NaN.\n## Nesse caso, eu optei por preencher com um valor que n\u00e3o tem sentido para nenhuma das Features.\n## No caso,-1 j\u00e1 que ninguem tem idade negativa, e o sexo bin\u00e1rio varia entre 0 e 1 \n\nx = x.fillna(-1)",
            "execution_count": 9,
            "outputs": []
        },
        {
            "metadata": {},
            "cell_type": "code",
            "source": "## Split no data set de Treino para fazer valida\u00e7\u00e3o.\nnp.random.seed(0)\nX_train, X_valid, y_train,y_valid = train_test_split(x,y, test_size = 0.5)",
            "execution_count": 10,
            "outputs": []
        },
        {
            "metadata": {},
            "cell_type": "code",
            "source": "## Treinando modelo\nmodelo.fit(X_train,y_train)",
            "execution_count": 11,
            "outputs": [
                {
                    "output_type": "execute_result",
                    "execution_count": 11,
                    "data": {
                        "text/plain": "RandomForestClassifier(bootstrap=True, class_weight=None, criterion='gini',\n            max_depth=None, max_features='auto', max_leaf_nodes=None,\n            min_impurity_decrease=0.0, min_impurity_split=None,\n            min_samples_leaf=1, min_samples_split=2,\n            min_weight_fraction_leaf=0.0, n_estimators=100, n_jobs=1,\n            oob_score=False, random_state=0, verbose=0, warm_start=False)"
                    },
                    "metadata": {}
                }
            ]
        },
        {
            "metadata": {},
            "cell_type": "code",
            "source": "p = modelo.predict(X_valid)",
            "execution_count": 12,
            "outputs": []
        },
        {
            "metadata": {},
            "cell_type": "code",
            "source": "## Acuracia\nnp.mean(p == y_valid)",
            "execution_count": 13,
            "outputs": [
                {
                    "output_type": "execute_result",
                    "execution_count": 13,
                    "data": {
                        "text/plain": "0.7690582959641256"
                    },
                    "metadata": {}
                }
            ]
        },
        {
            "metadata": {},
            "cell_type": "code",
            "source": "## Gender submission -> Acuracia se assumirmos que todas as mulheres sobreviveram.\np2 = (X_valid['Sex_bin'] == 1).astype(np.int64)\nnp.mean(p2== y_valid)",
            "execution_count": 14,
            "outputs": [
                {
                    "output_type": "execute_result",
                    "execution_count": 14,
                    "data": {
                        "text/plain": "0.7825112107623319"
                    },
                    "metadata": {}
                }
            ]
        },
        {
            "metadata": {},
            "cell_type": "code",
            "source": "## Isso mostra que o modelo ainda n\u00e3o e \u00fatil, pois se assumirmos que todas as mulheres sobreviveram, seremos mais precisos do que o modelo.",
            "execution_count": 15,
            "outputs": []
        },
        {
            "metadata": {},
            "cell_type": "markdown",
            "source": "## Cross validation"
        },
        {
            "metadata": {},
            "cell_type": "code",
            "source": "## A Cross Validation \u00e9 uma valida\u00e7\u00e3o mais robusta/pesada que diminui a eleatoriedade da divisao do conjunto de teste e treino, \n  #e portanto \u00e9 mais confi\u00e1vel\n## Por ser uma valida\u00e7\u00e3o mais robusta, ela funciona muito bem em datasets menores mas com grandes quantidades de dados pode ser muito custoso.\n",
            "execution_count": 16,
            "outputs": []
        },
        {
            "metadata": {},
            "cell_type": "code",
            "source": "from sklearn.model_selection import RepeatedKFold",
            "execution_count": 17,
            "outputs": []
        },
        {
            "metadata": {},
            "cell_type": "code",
            "source": "resultados = []",
            "execution_count": 18,
            "outputs": []
        },
        {
            "metadata": {},
            "cell_type": "code",
            "source": "Kfold = RepeatedKFold(n_splits = 2,n_repeats = 10, random_state = 0)",
            "execution_count": 19,
            "outputs": []
        },
        {
            "metadata": {
                "scrolled": true
            },
            "cell_type": "code",
            "source": "\nfor linhas_treino, linhas_teste in Kfold.split(x):\n    print(\"Treino: \", linhas_treino.shape[0]) \n    print(\"Teste: \", linhas_teste.shape[0])\n     \n    X_train, X_valid = x.iloc[linhas_treino], x.iloc[linhas_teste]\n    y_train, y_valid = y.iloc[linhas_treino], y.iloc[linhas_teste]\n    \n        \n    modelo = RandomForestClassifier(n_estimators = 100,\n                                    n_jobs = -1, \n                                    random_state = 0)\n    modelo.fit(X_train, y_train)\n    p = modelo.predict(X_valid)\n    \n    acc = np.mean(y_valid == p )\n    resultados.append(acc)\n    print(\"Acc:\", acc)\n    print()\n            \n    ",
            "execution_count": 20,
            "outputs": [
                {
                    "output_type": "stream",
                    "text": "Treino:  445\nTeste:  446\nAcc: 0.7713004484304933\n\nTreino:  446\nTeste:  445\nAcc: 0.7797752808988764\n\nTreino:  445\nTeste:  446\nAcc: 0.7331838565022422\n\nTreino:  446\nTeste:  445\nAcc: 0.7640449438202247\n\nTreino:  445\nTeste:  446\nAcc: 0.7466367713004485\n\nTreino:  446\nTeste:  445\nAcc: 0.7617977528089888\n\nTreino:  445\nTeste:  446\nAcc: 0.757847533632287\n\nTreino:  446\nTeste:  445\nAcc: 0.7617977528089888\n\nTreino:  445\nTeste:  446\nAcc: 0.757847533632287\n\nTreino:  446\nTeste:  445\nAcc: 0.7707865168539326\n\nTreino:  445\nTeste:  446\nAcc: 0.7466367713004485\n\nTreino:  446\nTeste:  445\nAcc: 0.7617977528089888\n\nTreino:  445\nTeste:  446\nAcc: 0.7645739910313901\n\nTreino:  446\nTeste:  445\nAcc: 0.7685393258426966\n\nTreino:  445\nTeste:  446\nAcc: 0.7399103139013453\n\nTreino:  446\nTeste:  445\nAcc: 0.7707865168539326\n\nTreino:  445\nTeste:  446\nAcc: 0.7399103139013453\n\nTreino:  446\nTeste:  445\nAcc: 0.7438202247191011\n\nTreino:  445\nTeste:  446\nAcc: 0.742152466367713\n\nTreino:  446\nTeste:  445\nAcc: 0.7730337078651686\n\n",
                    "name": "stdout"
                }
            ]
        },
        {
            "metadata": {},
            "cell_type": "code",
            "source": "np.mean(resultados)",
            "execution_count": 21,
            "outputs": [
                {
                    "output_type": "execute_result",
                    "execution_count": 21,
                    "data": {
                        "text/plain": "0.757808988764045"
                    },
                    "metadata": {}
                }
            ]
        },
        {
            "metadata": {},
            "cell_type": "code",
            "source": "%matplotlib inline \n%pylab inline",
            "execution_count": 22,
            "outputs": [
                {
                    "output_type": "stream",
                    "text": "Populating the interactive namespace from numpy and matplotlib\n",
                    "name": "stdout"
                },
                {
                    "output_type": "stream",
                    "text": "/opt/conda/envs/Python36/lib/python3.6/site-packages/IPython/core/magics/pylab.py:160: UserWarning: pylab import has clobbered these variables: ['test']\n`%matplotlib` prevents importing * from pylab and numpy\n  \"\\n`%matplotlib` prevents importing * from pylab and numpy\"\n",
                    "name": "stderr"
                }
            ]
        },
        {
            "metadata": {},
            "cell_type": "code",
            "source": "pylab.hist(resultados)",
            "execution_count": 23,
            "outputs": [
                {
                    "output_type": "execute_result",
                    "execution_count": 23,
                    "data": {
                        "text/plain": "(array([1., 3., 3., 0., 0., 2., 5., 1., 4., 1.]),\n array([0.73318386, 0.737843  , 0.74250214, 0.74716128, 0.75182043,\n        0.75647957, 0.76113871, 0.76579785, 0.770457  , 0.77511614,\n        0.77977528]),\n <a list of 10 Patch objects>)"
                    },
                    "metadata": {}
                },
                {
                    "output_type": "display_data",
                    "data": {
                        "text/plain": "<Figure size 432x288 with 1 Axes>",
                        "image/png": "[encoded data removed]"
                    },
                    "metadata": {
                        "needs_background": "light"
                    }
                }
            ]
        },
        {
            "metadata": {},
            "cell_type": "markdown",
            "source": "## Adicionando mais variaveis ao modelo"
        },
        {
            "metadata": {},
            "cell_type": "code",
            "source": "train.head()\n## Pclass - > classe\n## SibSp -> Viajando com irmao/esposa\n## Parch -> Viajando com pais/filhos\n## Fare -> Valor da passagem",
            "execution_count": 24,
            "outputs": [
                {
                    "output_type": "execute_result",
                    "execution_count": 24,
                    "data": {
                        "text/plain": "   PassengerId  Survived  Pclass  \\\n0            1         0       3   \n1            2         1       1   \n2            3         1       3   \n3            4         1       1   \n4            5         0       3   \n\n                                                Name     Sex   Age  SibSp  \\\n0                            Braund, Mr. Owen Harris    male  22.0      1   \n1  Cumings, Mrs. John Bradley (Florence Briggs Th...  female  38.0      1   \n2                             Heikkinen, Miss. Laina  female  26.0      0   \n3       Futrelle, Mrs. Jacques Heath (Lily May Peel)  female  35.0      1   \n4                           Allen, Mr. William Henry    male  35.0      0   \n\n   Parch            Ticket     Fare Cabin Embarked  Sex_bin  \n0      0         A/5 21171   7.2500   NaN        S        0  \n1      0          PC 17599  71.2833   C85        C        1  \n2      0  STON/O2. 3101282   7.9250   NaN        S        1  \n3      0            113803  53.1000  C123        S        1  \n4      0            373450   8.0500   NaN        S        0  ",
                        "text/html": "<div>\n<style scoped>\n    .dataframe tbody tr th:only-of-type {\n        vertical-align: middle;\n    }\n\n    .dataframe tbody tr th {\n        vertical-align: top;\n    }\n\n    .dataframe thead th {\n        text-align: right;\n    }\n</style>\n<table border=\"1\" class=\"dataframe\">\n  <thead>\n    <tr style=\"text-align: right;\">\n      <th></th>\n      <th>PassengerId</th>\n      <th>Survived</th>\n      <th>Pclass</th>\n      <th>Name</th>\n      <th>Sex</th>\n      <th>Age</th>\n      <th>SibSp</th>\n      <th>Parch</th>\n      <th>Ticket</th>\n      <th>Fare</th>\n      <th>Cabin</th>\n      <th>Embarked</th>\n      <th>Sex_bin</th>\n    </tr>\n  </thead>\n  <tbody>\n    <tr>\n      <th>0</th>\n      <td>1</td>\n      <td>0</td>\n      <td>3</td>\n      <td>Braund, Mr. Owen Harris</td>\n      <td>male</td>\n      <td>22.0</td>\n      <td>1</td>\n      <td>0</td>\n      <td>A/5 21171</td>\n      <td>7.2500</td>\n      <td>NaN</td>\n      <td>S</td>\n      <td>0</td>\n    </tr>\n    <tr>\n      <th>1</th>\n      <td>2</td>\n      <td>1</td>\n      <td>1</td>\n      <td>Cumings, Mrs. John Bradley (Florence Briggs Th...</td>\n      <td>female</td>\n      <td>38.0</td>\n      <td>1</td>\n      <td>0</td>\n      <td>PC 17599</td>\n      <td>71.2833</td>\n      <td>C85</td>\n      <td>C</td>\n      <td>1</td>\n    </tr>\n    <tr>\n      <th>2</th>\n      <td>3</td>\n      <td>1</td>\n      <td>3</td>\n      <td>Heikkinen, Miss. Laina</td>\n      <td>female</td>\n      <td>26.0</td>\n      <td>0</td>\n      <td>0</td>\n      <td>STON/O2. 3101282</td>\n      <td>7.9250</td>\n      <td>NaN</td>\n      <td>S</td>\n      <td>1</td>\n    </tr>\n    <tr>\n      <th>3</th>\n      <td>4</td>\n      <td>1</td>\n      <td>1</td>\n      <td>Futrelle, Mrs. Jacques Heath (Lily May Peel)</td>\n      <td>female</td>\n      <td>35.0</td>\n      <td>1</td>\n      <td>0</td>\n      <td>113803</td>\n      <td>53.1000</td>\n      <td>C123</td>\n      <td>S</td>\n      <td>1</td>\n    </tr>\n    <tr>\n      <th>4</th>\n      <td>5</td>\n      <td>0</td>\n      <td>3</td>\n      <td>Allen, Mr. William Henry</td>\n      <td>male</td>\n      <td>35.0</td>\n      <td>0</td>\n      <td>0</td>\n      <td>373450</td>\n      <td>8.0500</td>\n      <td>NaN</td>\n      <td>S</td>\n      <td>0</td>\n    </tr>\n  </tbody>\n</table>\n</div>"
                    },
                    "metadata": {}
                }
            ]
        },
        {
            "metadata": {},
            "cell_type": "markdown",
            "source": "modelo_anterior = 0.7591522648259181\n"
        },
        {
            "metadata": {},
            "cell_type": "code",
            "source": "variaveis = variaveis + ['Pclass','SibSp','Parch','Fare']",
            "execution_count": 25,
            "outputs": []
        },
        {
            "metadata": {
                "scrolled": true
            },
            "cell_type": "code",
            "source": "x = train[variaveis]\nx= x.fillna(-1)\ny= train[\"Survived\"]\n",
            "execution_count": 26,
            "outputs": []
        },
        {
            "metadata": {},
            "cell_type": "code",
            "source": "resultados2 = []",
            "execution_count": 27,
            "outputs": []
        },
        {
            "metadata": {},
            "cell_type": "code",
            "source": "Kfold = RepeatedKFold(n_splits = 2,n_repeats = 10, random_state = 0)",
            "execution_count": 28,
            "outputs": []
        },
        {
            "metadata": {},
            "cell_type": "code",
            "source": "for linhas_treino, linhas_teste in Kfold.split(x):\n    print(\"Treino: \", linhas_treino.shape[0]) \n    print(\"Teste: \", linhas_teste.shape[0])\n     \n    X_train, X_valid = x.iloc[linhas_treino], x.iloc[linhas_teste]\n    y_train, y_valid = y.iloc[linhas_treino], y.iloc[linhas_teste]\n    \n        \n    modelo = RandomForestClassifier(n_estimators = 100,\n                                    n_jobs = -1, \n                                    random_state = 0)\n    modelo.fit(X_train, y_train)\n    p = modelo.predict(X_valid)\n    \n    acc = np.mean(y_valid == p )\n    resultados2.append(acc)\n    print(\"Acc:\", acc)\n    print()",
            "execution_count": 29,
            "outputs": [
                {
                    "output_type": "stream",
                    "text": "Treino:  445\nTeste:  446\nAcc: 0.7757847533632287\n\nTreino:  446\nTeste:  445\nAcc: 0.8269662921348314\n\nTreino:  445\nTeste:  446\nAcc: 0.8116591928251121\n\nTreino:  446\nTeste:  445\nAcc: 0.8202247191011236\n\nTreino:  445\nTeste:  446\nAcc: 0.804932735426009\n\nTreino:  446\nTeste:  445\nAcc: 0.7932584269662921\n\nTreino:  445\nTeste:  446\nAcc: 0.7982062780269058\n\nTreino:  446\nTeste:  445\nAcc: 0.7842696629213484\n\nTreino:  445\nTeste:  446\nAcc: 0.7847533632286996\n\nTreino:  446\nTeste:  445\nAcc: 0.8157303370786517\n\nTreino:  445\nTeste:  446\nAcc: 0.7914798206278026\n\nTreino:  446\nTeste:  445\nAcc: 0.8269662921348314\n\nTreino:  445\nTeste:  446\nAcc: 0.7937219730941704\n\nTreino:  446\nTeste:  445\nAcc: 0.7887640449438202\n\nTreino:  445\nTeste:  446\nAcc: 0.7847533632286996\n\nTreino:  446\nTeste:  445\nAcc: 0.8224719101123595\n\nTreino:  445\nTeste:  446\nAcc: 0.7892376681614349\n\nTreino:  446\nTeste:  445\nAcc: 0.7797752808988764\n\nTreino:  445\nTeste:  446\nAcc: 0.8116591928251121\n\nTreino:  446\nTeste:  445\nAcc: 0.8247191011235955\n\n",
                    "name": "stdout"
                }
            ]
        },
        {
            "metadata": {},
            "cell_type": "code",
            "source": "np.mean(resultados2)",
            "execution_count": 30,
            "outputs": [
                {
                    "output_type": "execute_result",
                    "execution_count": 30,
                    "data": {
                        "text/plain": "0.8014667204111454"
                    },
                    "metadata": {}
                }
            ]
        },
        {
            "metadata": {},
            "cell_type": "code",
            "source": "pylab.hist(resultados2)\n",
            "execution_count": 31,
            "outputs": [
                {
                    "output_type": "execute_result",
                    "execution_count": 31,
                    "data": {
                        "text/plain": "(array([2., 3., 2., 3., 1., 1., 0., 3., 1., 4.]),\n array([0.77578475, 0.78090291, 0.78602106, 0.79113921, 0.79625737,\n        0.80137552, 0.80649368, 0.81161183, 0.81672998, 0.82184814,\n        0.82696629]),\n <a list of 10 Patch objects>)"
                    },
                    "metadata": {}
                },
                {
                    "output_type": "display_data",
                    "data": {
                        "text/plain": "<Figure size 432x288 with 1 Axes>",
                        "image/png": "[encoded data removed]"
                    },
                    "metadata": {
                        "needs_background": "light"
                    }
                }
            ]
        },
        {
            "metadata": {},
            "cell_type": "markdown",
            "source": "## AN\u00c1LISE DE ERRO"
        },
        {
            "metadata": {},
            "cell_type": "code",
            "source": "## O objetivo aqui \u00e9 identificar aonde o modelo est\u00e1 errando p/ tentar faze-lo acertar\n\nX_valid_check = train.iloc[linhas_teste].copy()\nX_valid_check['p'] = p \nX_valid_check.head()",
            "execution_count": 32,
            "outputs": [
                {
                    "output_type": "execute_result",
                    "execution_count": 32,
                    "data": {
                        "text/plain": "   PassengerId  Survived  Pclass  \\\n0            1         0       3   \n1            2         1       1   \n2            3         1       3   \n5            6         0       3   \n6            7         0       1   \n\n                                                Name     Sex   Age  SibSp  \\\n0                            Braund, Mr. Owen Harris    male  22.0      1   \n1  Cumings, Mrs. John Bradley (Florence Briggs Th...  female  38.0      1   \n2                             Heikkinen, Miss. Laina  female  26.0      0   \n5                                   Moran, Mr. James    male   NaN      0   \n6                            McCarthy, Mr. Timothy J    male  54.0      0   \n\n   Parch            Ticket     Fare Cabin Embarked  Sex_bin  p  \n0      0         A/5 21171   7.2500   NaN        S        0  0  \n1      0          PC 17599  71.2833   C85        C        1  1  \n2      0  STON/O2. 3101282   7.9250   NaN        S        1  1  \n5      0            330877   8.4583   NaN        Q        0  0  \n6      0             17463  51.8625   E46        S        0  0  ",
                        "text/html": "<div>\n<style scoped>\n    .dataframe tbody tr th:only-of-type {\n        vertical-align: middle;\n    }\n\n    .dataframe tbody tr th {\n        vertical-align: top;\n    }\n\n    .dataframe thead th {\n        text-align: right;\n    }\n</style>\n<table border=\"1\" class=\"dataframe\">\n  <thead>\n    <tr style=\"text-align: right;\">\n      <th></th>\n      <th>PassengerId</th>\n      <th>Survived</th>\n      <th>Pclass</th>\n      <th>Name</th>\n      <th>Sex</th>\n      <th>Age</th>\n      <th>SibSp</th>\n      <th>Parch</th>\n      <th>Ticket</th>\n      <th>Fare</th>\n      <th>Cabin</th>\n      <th>Embarked</th>\n      <th>Sex_bin</th>\n      <th>p</th>\n    </tr>\n  </thead>\n  <tbody>\n    <tr>\n      <th>0</th>\n      <td>1</td>\n      <td>0</td>\n      <td>3</td>\n      <td>Braund, Mr. Owen Harris</td>\n      <td>male</td>\n      <td>22.0</td>\n      <td>1</td>\n      <td>0</td>\n      <td>A/5 21171</td>\n      <td>7.2500</td>\n      <td>NaN</td>\n      <td>S</td>\n      <td>0</td>\n      <td>0</td>\n    </tr>\n    <tr>\n      <th>1</th>\n      <td>2</td>\n      <td>1</td>\n      <td>1</td>\n      <td>Cumings, Mrs. John Bradley (Florence Briggs Th...</td>\n      <td>female</td>\n      <td>38.0</td>\n      <td>1</td>\n      <td>0</td>\n      <td>PC 17599</td>\n      <td>71.2833</td>\n      <td>C85</td>\n      <td>C</td>\n      <td>1</td>\n      <td>1</td>\n    </tr>\n    <tr>\n      <th>2</th>\n      <td>3</td>\n      <td>1</td>\n      <td>3</td>\n      <td>Heikkinen, Miss. Laina</td>\n      <td>female</td>\n      <td>26.0</td>\n      <td>0</td>\n      <td>0</td>\n      <td>STON/O2. 3101282</td>\n      <td>7.9250</td>\n      <td>NaN</td>\n      <td>S</td>\n      <td>1</td>\n      <td>1</td>\n    </tr>\n    <tr>\n      <th>5</th>\n      <td>6</td>\n      <td>0</td>\n      <td>3</td>\n      <td>Moran, Mr. James</td>\n      <td>male</td>\n      <td>NaN</td>\n      <td>0</td>\n      <td>0</td>\n      <td>330877</td>\n      <td>8.4583</td>\n      <td>NaN</td>\n      <td>Q</td>\n      <td>0</td>\n      <td>0</td>\n    </tr>\n    <tr>\n      <th>6</th>\n      <td>7</td>\n      <td>0</td>\n      <td>1</td>\n      <td>McCarthy, Mr. Timothy J</td>\n      <td>male</td>\n      <td>54.0</td>\n      <td>0</td>\n      <td>0</td>\n      <td>17463</td>\n      <td>51.8625</td>\n      <td>E46</td>\n      <td>S</td>\n      <td>0</td>\n      <td>0</td>\n    </tr>\n  </tbody>\n</table>\n</div>"
                    },
                    "metadata": {}
                }
            ]
        },
        {
            "metadata": {},
            "cell_type": "code",
            "source": "## Selecionando somente os registros que o modelo errou;\nerros = X_valid_check[X_valid_check[\"Survived\"] != X_valid_check[\"p\"]]\nerros = erros[[\"PassengerId\",\"Pclass\",\"Name\",\"Sex\",\"Age\",\"SibSp\",\"Parch\",\"Ticket\",\"Fare\",\"Cabin\",\"Embarked\",\"Sex_bin\",\"Survived\",\"p\"]]",
            "execution_count": 33,
            "outputs": []
        },
        {
            "metadata": {},
            "cell_type": "code",
            "source": "erros.head()",
            "execution_count": 34,
            "outputs": [
                {
                    "output_type": "execute_result",
                    "execution_count": 34,
                    "data": {
                        "text/plain": "    PassengerId  Pclass                                               Name  \\\n8             9       3  Johnson, Mrs. Oscar W (Elisabeth Vilhelmina Berg)   \n14           15       3               Vestrom, Miss. Hulda Amanda Adolfina   \n21           22       2                              Beesley, Mr. Lawrence   \n25           26       3  Asplund, Mrs. Carl Oscar (Selma Augusta Emilia...   \n36           37       3                                   Mamee, Mr. Hanna   \n\n       Sex   Age  SibSp  Parch  Ticket     Fare Cabin Embarked  Sex_bin  \\\n8   female  27.0      0      2  347742  11.1333   NaN        S        1   \n14  female  14.0      0      0  350406   7.8542   NaN        S        1   \n21    male  34.0      0      0  248698  13.0000   D56        S        0   \n25  female  38.0      1      5  347077  31.3875   NaN        S        1   \n36    male   NaN      0      0    2677   7.2292   NaN        C        0   \n\n    Survived  p  \n8          1  0  \n14         0  1  \n21         1  0  \n25         1  0  \n36         1  0  ",
                        "text/html": "<div>\n<style scoped>\n    .dataframe tbody tr th:only-of-type {\n        vertical-align: middle;\n    }\n\n    .dataframe tbody tr th {\n        vertical-align: top;\n    }\n\n    .dataframe thead th {\n        text-align: right;\n    }\n</style>\n<table border=\"1\" class=\"dataframe\">\n  <thead>\n    <tr style=\"text-align: right;\">\n      <th></th>\n      <th>PassengerId</th>\n      <th>Pclass</th>\n      <th>Name</th>\n      <th>Sex</th>\n      <th>Age</th>\n      <th>SibSp</th>\n      <th>Parch</th>\n      <th>Ticket</th>\n      <th>Fare</th>\n      <th>Cabin</th>\n      <th>Embarked</th>\n      <th>Sex_bin</th>\n      <th>Survived</th>\n      <th>p</th>\n    </tr>\n  </thead>\n  <tbody>\n    <tr>\n      <th>8</th>\n      <td>9</td>\n      <td>3</td>\n      <td>Johnson, Mrs. Oscar W (Elisabeth Vilhelmina Berg)</td>\n      <td>female</td>\n      <td>27.0</td>\n      <td>0</td>\n      <td>2</td>\n      <td>347742</td>\n      <td>11.1333</td>\n      <td>NaN</td>\n      <td>S</td>\n      <td>1</td>\n      <td>1</td>\n      <td>0</td>\n    </tr>\n    <tr>\n      <th>14</th>\n      <td>15</td>\n      <td>3</td>\n      <td>Vestrom, Miss. Hulda Amanda Adolfina</td>\n      <td>female</td>\n      <td>14.0</td>\n      <td>0</td>\n      <td>0</td>\n      <td>350406</td>\n      <td>7.8542</td>\n      <td>NaN</td>\n      <td>S</td>\n      <td>1</td>\n      <td>0</td>\n      <td>1</td>\n    </tr>\n    <tr>\n      <th>21</th>\n      <td>22</td>\n      <td>2</td>\n      <td>Beesley, Mr. Lawrence</td>\n      <td>male</td>\n      <td>34.0</td>\n      <td>0</td>\n      <td>0</td>\n      <td>248698</td>\n      <td>13.0000</td>\n      <td>D56</td>\n      <td>S</td>\n      <td>0</td>\n      <td>1</td>\n      <td>0</td>\n    </tr>\n    <tr>\n      <th>25</th>\n      <td>26</td>\n      <td>3</td>\n      <td>Asplund, Mrs. Carl Oscar (Selma Augusta Emilia...</td>\n      <td>female</td>\n      <td>38.0</td>\n      <td>1</td>\n      <td>5</td>\n      <td>347077</td>\n      <td>31.3875</td>\n      <td>NaN</td>\n      <td>S</td>\n      <td>1</td>\n      <td>1</td>\n      <td>0</td>\n    </tr>\n    <tr>\n      <th>36</th>\n      <td>37</td>\n      <td>3</td>\n      <td>Mamee, Mr. Hanna</td>\n      <td>male</td>\n      <td>NaN</td>\n      <td>0</td>\n      <td>0</td>\n      <td>2677</td>\n      <td>7.2292</td>\n      <td>NaN</td>\n      <td>C</td>\n      <td>0</td>\n      <td>1</td>\n      <td>0</td>\n    </tr>\n  </tbody>\n</table>\n</div>"
                    },
                    "metadata": {}
                }
            ]
        },
        {
            "metadata": {},
            "cell_type": "code",
            "source": "## Agora, o objetivo \u00e9 identificar padr\u00f5es de erro. \n##Uma das formas para fazer isso \u00e9 olhar algum grupo especifico\n## Nesse caso, vou avaliar os grupos Homem e mulher\n\n\nmulheres = erros[erros['Sex_bin'] == 1]\nhomens = erros[erros['Sex_bin'] == 0] \n\n",
            "execution_count": 35,
            "outputs": []
        },
        {
            "metadata": {},
            "cell_type": "code",
            "source": "mulheres.sort_values('Survived')",
            "execution_count": 36,
            "outputs": [
                {
                    "output_type": "execute_result",
                    "execution_count": 36,
                    "data": {
                        "text/plain": "     PassengerId  Pclass                                               Name  \\\n357          358       2                          Funk, Miss. Annie Clemmer   \n854          855       2      Carter, Mrs. Ernest Courtenay (Lilian Hughes)   \n534          535       3                                Cacic, Miss. Marija   \n312          313       2              Lahtinen, Mrs. William (Anna Sylfven)   \n297          298       1                       Allison, Miss. Helen Loraine   \n617          618       3    Lobb, Mrs. William Arthur (Cordelia K Stanlick)   \n501          502       3                                Canavan, Miss. Mary   \n205          206       3                         Strom, Miss. Telma Matilda   \n729          730       3                      Ilmakangas, Miss. Pieta Sofia   \n772          773       2                                  Mack, Mrs. (Mary)   \n813          814       3                 Andersson, Miss. Ebba Iris Alfrida   \n14            15       3               Vestrom, Miss. Hulda Amanda Adolfina   \n199          200       2             Yrois, Miss. Henriette (\"Mrs Harbeck\")   \n498          499       1    Allison, Mrs. Hudson J C (Bessie Waldo Daniels)   \n677          678       3                            Turja, Miss. Anna Sofia   \n823          824       3                                 Moor, Mrs. (Beila)   \n554          555       3                                 Ohman, Miss. Velin   \n830          831       3            Yasbeck, Mrs. Antoni (Selini Alexander)   \n8              9       3  Johnson, Mrs. Oscar W (Elisabeth Vilhelmina Berg)   \n448          449       3                     Baclini, Miss. Marie Catherine   \n394          395       3  Sandstrom, Mrs. Hjalmar (Agnes Charlotta Bengt...   \n330          331       3                                 McCoy, Miss. Agnes   \n328          329       3     Goldsmith, Mrs. Frank John (Emily Alice Brown)   \n279          280       3                   Abbott, Mrs. Stanton (Rosa Hunt)   \n255          256       3            Touma, Mrs. Darwis (Hanne Youssef Razi)   \n142          143       3  Hakkarainen, Mrs. Pekka Pietari (Elin Matilda ...   \n79            80       3                           Dowdell, Miss. Elizabeth   \n44            45       3                      Devaney, Miss. Margaret Delia   \n39            40       3                        Nicola-Yarred, Miss. Jamila   \n25            26       3  Asplund, Mrs. Carl Oscar (Selma Augusta Emilia...   \n483          484       3                             Turkula, Mrs. (Hedwig)   \n855          856       3                         Aks, Mrs. Sam (Leah Rosen)   \n\n        Sex   Age  SibSp  Parch            Ticket      Fare    Cabin Embarked  \\\n357  female  38.0      0      0            237671   13.0000      NaN        S   \n854  female  44.0      1      0            244252   26.0000      NaN        S   \n534  female  30.0      0      0            315084    8.6625      NaN        S   \n312  female  26.0      1      1            250651   26.0000      NaN        S   \n297  female   2.0      1      2            113781  151.5500  C22 C26        S   \n617  female  26.0      1      0         A/5. 3336   16.1000      NaN        S   \n501  female  21.0      0      0            364846    7.7500      NaN        Q   \n205  female   2.0      0      1            347054   10.4625       G6        S   \n729  female  25.0      1      0  STON/O2. 3101271    7.9250      NaN        S   \n772  female  57.0      0      0       S.O./P.P. 3   10.5000      E77        S   \n813  female   6.0      4      2            347082   31.2750      NaN        S   \n14   female  14.0      0      0            350406    7.8542      NaN        S   \n199  female  24.0      0      0            248747   13.0000      NaN        S   \n498  female  25.0      1      2            113781  151.5500  C22 C26        S   \n677  female  18.0      0      0              4138    9.8417      NaN        S   \n823  female  27.0      0      1            392096   12.4750     E121        S   \n554  female  22.0      0      0            347085    7.7750      NaN        S   \n830  female  15.0      1      0              2659   14.4542      NaN        C   \n8    female  27.0      0      2            347742   11.1333      NaN        S   \n448  female   5.0      2      1              2666   19.2583      NaN        C   \n394  female  24.0      0      2           PP 9549   16.7000       G6        S   \n330  female   NaN      2      0            367226   23.2500      NaN        Q   \n328  female  31.0      1      1            363291   20.5250      NaN        S   \n279  female  35.0      1      1         C.A. 2673   20.2500      NaN        S   \n255  female  29.0      0      2              2650   15.2458      NaN        C   \n142  female  24.0      1      0  STON/O2. 3101279   15.8500      NaN        S   \n79   female  30.0      0      0            364516   12.4750      NaN        S   \n44   female  19.0      0      0            330958    7.8792      NaN        Q   \n39   female  14.0      1      0              2651   11.2417      NaN        C   \n25   female  38.0      1      5            347077   31.3875      NaN        S   \n483  female  63.0      0      0              4134    9.5875      NaN        S   \n855  female  18.0      0      1            392091    9.3500      NaN        S   \n\n     Sex_bin  Survived  p  \n357        1         0  1  \n854        1         0  1  \n534        1         0  1  \n312        1         0  1  \n297        1         0  1  \n617        1         0  1  \n501        1         0  1  \n205        1         0  1  \n729        1         0  1  \n772        1         0  1  \n813        1         0  1  \n14         1         0  1  \n199        1         0  1  \n498        1         0  1  \n677        1         1  0  \n823        1         1  0  \n554        1         1  0  \n830        1         1  0  \n8          1         1  0  \n448        1         1  0  \n394        1         1  0  \n330        1         1  0  \n328        1         1  0  \n279        1         1  0  \n255        1         1  0  \n142        1         1  0  \n79         1         1  0  \n44         1         1  0  \n39         1         1  0  \n25         1         1  0  \n483        1         1  0  \n855        1         1  0  ",
                        "text/html": "<div>\n<style scoped>\n    .dataframe tbody tr th:only-of-type {\n        vertical-align: middle;\n    }\n\n    .dataframe tbody tr th {\n        vertical-align: top;\n    }\n\n    .dataframe thead th {\n        text-align: right;\n    }\n</style>\n<table border=\"1\" class=\"dataframe\">\n  <thead>\n    <tr style=\"text-align: right;\">\n      <th></th>\n      <th>PassengerId</th>\n      <th>Pclass</th>\n      <th>Name</th>\n      <th>Sex</th>\n      <th>Age</th>\n      <th>SibSp</th>\n      <th>Parch</th>\n      <th>Ticket</th>\n      <th>Fare</th>\n      <th>Cabin</th>\n      <th>Embarked</th>\n      <th>Sex_bin</th>\n      <th>Survived</th>\n      <th>p</th>\n    </tr>\n  </thead>\n  <tbody>\n    <tr>\n      <th>357</th>\n      <td>358</td>\n      <td>2</td>\n      <td>Funk, Miss. Annie Clemmer</td>\n      <td>female</td>\n      <td>38.0</td>\n      <td>0</td>\n      <td>0</td>\n      <td>237671</td>\n      <td>13.0000</td>\n      <td>NaN</td>\n      <td>S</td>\n      <td>1</td>\n      <td>0</td>\n      <td>1</td>\n    </tr>\n    <tr>\n      <th>854</th>\n      <td>855</td>\n      <td>2</td>\n      <td>Carter, Mrs. Ernest Courtenay (Lilian Hughes)</td>\n      <td>female</td>\n      <td>44.0</td>\n      <td>1</td>\n      <td>0</td>\n      <td>244252</td>\n      <td>26.0000</td>\n      <td>NaN</td>\n      <td>S</td>\n      <td>1</td>\n      <td>0</td>\n      <td>1</td>\n    </tr>\n    <tr>\n      <th>534</th>\n      <td>535</td>\n      <td>3</td>\n      <td>Cacic, Miss. Marija</td>\n      <td>female</td>\n      <td>30.0</td>\n      <td>0</td>\n      <td>0</td>\n      <td>315084</td>\n      <td>8.6625</td>\n      <td>NaN</td>\n      <td>S</td>\n      <td>1</td>\n      <td>0</td>\n      <td>1</td>\n    </tr>\n    <tr>\n      <th>312</th>\n      <td>313</td>\n      <td>2</td>\n      <td>Lahtinen, Mrs. William (Anna Sylfven)</td>\n      <td>female</td>\n      <td>26.0</td>\n      <td>1</td>\n      <td>1</td>\n      <td>250651</td>\n      <td>26.0000</td>\n      <td>NaN</td>\n      <td>S</td>\n      <td>1</td>\n      <td>0</td>\n      <td>1</td>\n    </tr>\n    <tr>\n      <th>297</th>\n      <td>298</td>\n      <td>1</td>\n      <td>Allison, Miss. Helen Loraine</td>\n      <td>female</td>\n      <td>2.0</td>\n      <td>1</td>\n      <td>2</td>\n      <td>113781</td>\n      <td>151.5500</td>\n      <td>C22 C26</td>\n      <td>S</td>\n      <td>1</td>\n      <td>0</td>\n      <td>1</td>\n    </tr>\n    <tr>\n      <th>617</th>\n      <td>618</td>\n      <td>3</td>\n      <td>Lobb, Mrs. William Arthur (Cordelia K Stanlick)</td>\n      <td>female</td>\n      <td>26.0</td>\n      <td>1</td>\n      <td>0</td>\n      <td>A/5. 3336</td>\n      <td>16.1000</td>\n      <td>NaN</td>\n      <td>S</td>\n      <td>1</td>\n      <td>0</td>\n      <td>1</td>\n    </tr>\n    <tr>\n      <th>501</th>\n      <td>502</td>\n      <td>3</td>\n      <td>Canavan, Miss. Mary</td>\n      <td>female</td>\n      <td>21.0</td>\n      <td>0</td>\n      <td>0</td>\n      <td>364846</td>\n      <td>7.7500</td>\n      <td>NaN</td>\n      <td>Q</td>\n      <td>1</td>\n      <td>0</td>\n      <td>1</td>\n    </tr>\n    <tr>\n      <th>205</th>\n      <td>206</td>\n      <td>3</td>\n      <td>Strom, Miss. Telma Matilda</td>\n      <td>female</td>\n      <td>2.0</td>\n      <td>0</td>\n      <td>1</td>\n      <td>347054</td>\n      <td>10.4625</td>\n      <td>G6</td>\n      <td>S</td>\n      <td>1</td>\n      <td>0</td>\n      <td>1</td>\n    </tr>\n    <tr>\n      <th>729</th>\n      <td>730</td>\n      <td>3</td>\n      <td>Ilmakangas, Miss. Pieta Sofia</td>\n      <td>female</td>\n      <td>25.0</td>\n      <td>1</td>\n      <td>0</td>\n      <td>STON/O2. 3101271</td>\n      <td>7.9250</td>\n      <td>NaN</td>\n      <td>S</td>\n      <td>1</td>\n      <td>0</td>\n      <td>1</td>\n    </tr>\n    <tr>\n      <th>772</th>\n      <td>773</td>\n      <td>2</td>\n      <td>Mack, Mrs. (Mary)</td>\n      <td>female</td>\n      <td>57.0</td>\n      <td>0</td>\n      <td>0</td>\n      <td>S.O./P.P. 3</td>\n      <td>10.5000</td>\n      <td>E77</td>\n      <td>S</td>\n      <td>1</td>\n      <td>0</td>\n      <td>1</td>\n    </tr>\n    <tr>\n      <th>813</th>\n      <td>814</td>\n      <td>3</td>\n      <td>Andersson, Miss. Ebba Iris Alfrida</td>\n      <td>female</td>\n      <td>6.0</td>\n      <td>4</td>\n      <td>2</td>\n      <td>347082</td>\n      <td>31.2750</td>\n      <td>NaN</td>\n      <td>S</td>\n      <td>1</td>\n      <td>0</td>\n      <td>1</td>\n    </tr>\n    <tr>\n      <th>14</th>\n      <td>15</td>\n      <td>3</td>\n      <td>Vestrom, Miss. Hulda Amanda Adolfina</td>\n      <td>female</td>\n      <td>14.0</td>\n      <td>0</td>\n      <td>0</td>\n      <td>350406</td>\n      <td>7.8542</td>\n      <td>NaN</td>\n      <td>S</td>\n      <td>1</td>\n      <td>0</td>\n      <td>1</td>\n    </tr>\n    <tr>\n      <th>199</th>\n      <td>200</td>\n      <td>2</td>\n      <td>Yrois, Miss. Henriette (\"Mrs Harbeck\")</td>\n      <td>female</td>\n      <td>24.0</td>\n      <td>0</td>\n      <td>0</td>\n      <td>248747</td>\n      <td>13.0000</td>\n      <td>NaN</td>\n      <td>S</td>\n      <td>1</td>\n      <td>0</td>\n      <td>1</td>\n    </tr>\n    <tr>\n      <th>498</th>\n      <td>499</td>\n      <td>1</td>\n      <td>Allison, Mrs. Hudson J C (Bessie Waldo Daniels)</td>\n      <td>female</td>\n      <td>25.0</td>\n      <td>1</td>\n      <td>2</td>\n      <td>113781</td>\n      <td>151.5500</td>\n      <td>C22 C26</td>\n      <td>S</td>\n      <td>1</td>\n      <td>0</td>\n      <td>1</td>\n    </tr>\n    <tr>\n      <th>677</th>\n      <td>678</td>\n      <td>3</td>\n      <td>Turja, Miss. Anna Sofia</td>\n      <td>female</td>\n      <td>18.0</td>\n      <td>0</td>\n      <td>0</td>\n      <td>4138</td>\n      <td>9.8417</td>\n      <td>NaN</td>\n      <td>S</td>\n      <td>1</td>\n      <td>1</td>\n      <td>0</td>\n    </tr>\n    <tr>\n      <th>823</th>\n      <td>824</td>\n      <td>3</td>\n      <td>Moor, Mrs. (Beila)</td>\n      <td>female</td>\n      <td>27.0</td>\n      <td>0</td>\n      <td>1</td>\n      <td>392096</td>\n      <td>12.4750</td>\n      <td>E121</td>\n      <td>S</td>\n      <td>1</td>\n      <td>1</td>\n      <td>0</td>\n    </tr>\n    <tr>\n      <th>554</th>\n      <td>555</td>\n      <td>3</td>\n      <td>Ohman, Miss. Velin</td>\n      <td>female</td>\n      <td>22.0</td>\n      <td>0</td>\n      <td>0</td>\n      <td>347085</td>\n      <td>7.7750</td>\n      <td>NaN</td>\n      <td>S</td>\n      <td>1</td>\n      <td>1</td>\n      <td>0</td>\n    </tr>\n    <tr>\n      <th>830</th>\n      <td>831</td>\n      <td>3</td>\n      <td>Yasbeck, Mrs. Antoni (Selini Alexander)</td>\n      <td>female</td>\n      <td>15.0</td>\n      <td>1</td>\n      <td>0</td>\n      <td>2659</td>\n      <td>14.4542</td>\n      <td>NaN</td>\n      <td>C</td>\n      <td>1</td>\n      <td>1</td>\n      <td>0</td>\n    </tr>\n    <tr>\n      <th>8</th>\n      <td>9</td>\n      <td>3</td>\n      <td>Johnson, Mrs. Oscar W (Elisabeth Vilhelmina Berg)</td>\n      <td>female</td>\n      <td>27.0</td>\n      <td>0</td>\n      <td>2</td>\n      <td>347742</td>\n      <td>11.1333</td>\n      <td>NaN</td>\n      <td>S</td>\n      <td>1</td>\n      <td>1</td>\n      <td>0</td>\n    </tr>\n    <tr>\n      <th>448</th>\n      <td>449</td>\n      <td>3</td>\n      <td>Baclini, Miss. Marie Catherine</td>\n      <td>female</td>\n      <td>5.0</td>\n      <td>2</td>\n      <td>1</td>\n      <td>2666</td>\n      <td>19.2583</td>\n      <td>NaN</td>\n      <td>C</td>\n      <td>1</td>\n      <td>1</td>\n      <td>0</td>\n    </tr>\n    <tr>\n      <th>394</th>\n      <td>395</td>\n      <td>3</td>\n      <td>Sandstrom, Mrs. Hjalmar (Agnes Charlotta Bengt...</td>\n      <td>female</td>\n      <td>24.0</td>\n      <td>0</td>\n      <td>2</td>\n      <td>PP 9549</td>\n      <td>16.7000</td>\n      <td>G6</td>\n      <td>S</td>\n      <td>1</td>\n      <td>1</td>\n      <td>0</td>\n    </tr>\n    <tr>\n      <th>330</th>\n      <td>331</td>\n      <td>3</td>\n      <td>McCoy, Miss. Agnes</td>\n      <td>female</td>\n      <td>NaN</td>\n      <td>2</td>\n      <td>0</td>\n      <td>367226</td>\n      <td>23.2500</td>\n      <td>NaN</td>\n      <td>Q</td>\n      <td>1</td>\n      <td>1</td>\n      <td>0</td>\n    </tr>\n    <tr>\n      <th>328</th>\n      <td>329</td>\n      <td>3</td>\n      <td>Goldsmith, Mrs. Frank John (Emily Alice Brown)</td>\n      <td>female</td>\n      <td>31.0</td>\n      <td>1</td>\n      <td>1</td>\n      <td>363291</td>\n      <td>20.5250</td>\n      <td>NaN</td>\n      <td>S</td>\n      <td>1</td>\n      <td>1</td>\n      <td>0</td>\n    </tr>\n    <tr>\n      <th>279</th>\n      <td>280</td>\n      <td>3</td>\n      <td>Abbott, Mrs. Stanton (Rosa Hunt)</td>\n      <td>female</td>\n      <td>35.0</td>\n      <td>1</td>\n      <td>1</td>\n      <td>C.A. 2673</td>\n      <td>20.2500</td>\n      <td>NaN</td>\n      <td>S</td>\n      <td>1</td>\n      <td>1</td>\n      <td>0</td>\n    </tr>\n    <tr>\n      <th>255</th>\n      <td>256</td>\n      <td>3</td>\n      <td>Touma, Mrs. Darwis (Hanne Youssef Razi)</td>\n      <td>female</td>\n      <td>29.0</td>\n      <td>0</td>\n      <td>2</td>\n      <td>2650</td>\n      <td>15.2458</td>\n      <td>NaN</td>\n      <td>C</td>\n      <td>1</td>\n      <td>1</td>\n      <td>0</td>\n    </tr>\n    <tr>\n      <th>142</th>\n      <td>143</td>\n      <td>3</td>\n      <td>Hakkarainen, Mrs. Pekka Pietari (Elin Matilda ...</td>\n      <td>female</td>\n      <td>24.0</td>\n      <td>1</td>\n      <td>0</td>\n      <td>STON/O2. 3101279</td>\n      <td>15.8500</td>\n      <td>NaN</td>\n      <td>S</td>\n      <td>1</td>\n      <td>1</td>\n      <td>0</td>\n    </tr>\n    <tr>\n      <th>79</th>\n      <td>80</td>\n      <td>3</td>\n      <td>Dowdell, Miss. Elizabeth</td>\n      <td>female</td>\n      <td>30.0</td>\n      <td>0</td>\n      <td>0</td>\n      <td>364516</td>\n      <td>12.4750</td>\n      <td>NaN</td>\n      <td>S</td>\n      <td>1</td>\n      <td>1</td>\n      <td>0</td>\n    </tr>\n    <tr>\n      <th>44</th>\n      <td>45</td>\n      <td>3</td>\n      <td>Devaney, Miss. Margaret Delia</td>\n      <td>female</td>\n      <td>19.0</td>\n      <td>0</td>\n      <td>0</td>\n      <td>330958</td>\n      <td>7.8792</td>\n      <td>NaN</td>\n      <td>Q</td>\n      <td>1</td>\n      <td>1</td>\n      <td>0</td>\n    </tr>\n    <tr>\n      <th>39</th>\n      <td>40</td>\n      <td>3</td>\n      <td>Nicola-Yarred, Miss. Jamila</td>\n      <td>female</td>\n      <td>14.0</td>\n      <td>1</td>\n      <td>0</td>\n      <td>2651</td>\n      <td>11.2417</td>\n      <td>NaN</td>\n      <td>C</td>\n      <td>1</td>\n      <td>1</td>\n      <td>0</td>\n    </tr>\n    <tr>\n      <th>25</th>\n      <td>26</td>\n      <td>3</td>\n      <td>Asplund, Mrs. Carl Oscar (Selma Augusta Emilia...</td>\n      <td>female</td>\n      <td>38.0</td>\n      <td>1</td>\n      <td>5</td>\n      <td>347077</td>\n      <td>31.3875</td>\n      <td>NaN</td>\n      <td>S</td>\n      <td>1</td>\n      <td>1</td>\n      <td>0</td>\n    </tr>\n    <tr>\n      <th>483</th>\n      <td>484</td>\n      <td>3</td>\n      <td>Turkula, Mrs. (Hedwig)</td>\n      <td>female</td>\n      <td>63.0</td>\n      <td>0</td>\n      <td>0</td>\n      <td>4134</td>\n      <td>9.5875</td>\n      <td>NaN</td>\n      <td>S</td>\n      <td>1</td>\n      <td>1</td>\n      <td>0</td>\n    </tr>\n    <tr>\n      <th>855</th>\n      <td>856</td>\n      <td>3</td>\n      <td>Aks, Mrs. Sam (Leah Rosen)</td>\n      <td>female</td>\n      <td>18.0</td>\n      <td>0</td>\n      <td>1</td>\n      <td>392091</td>\n      <td>9.3500</td>\n      <td>NaN</td>\n      <td>S</td>\n      <td>1</td>\n      <td>1</td>\n      <td>0</td>\n    </tr>\n  </tbody>\n</table>\n</div>"
                    },
                    "metadata": {}
                }
            ]
        },
        {
            "metadata": {},
            "cell_type": "code",
            "source": "## \u00c9 possivel que vari\u00e1veis que ainda n\u00e3o foram utilizadas no modelo, como por ex: Embarked que se refere ao porto, Numero do Ticket e cabine \n## tenham influencia nos resultados. \n\n## Nessa etapa \u00e9 importante analisar profundamente as diferen\u00e7as entre os dados, e levantar hip\u00f3teses: \n\n    ## Por que algumas passagens tem nomenclatura diferente das outras? Ser\u00e1 que isso tem alguma influencia?\n    ## Sera que cada um dos portos tem alguma caracteristica que aumente ou diminua as chances de sobrevivencia? \n    ## Algumas mulheres s\u00e3o referenciadas como Mrs e outras como Miss. Ser\u00e1 que isso \u00e9 relevante? \n    ## Alguns registros n\u00e3o constam a cabine do passageiro. Ser\u00e1 que isso diz algo? \n    ## Alguns registros mostram mais de um valor para a cabine. Isso pode nos dizer algo? \n",
            "execution_count": 37,
            "outputs": []
        },
        {
            "metadata": {},
            "cell_type": "markdown",
            "source": "## NOVAS VARI\u00c1VEIS"
        },
        {
            "metadata": {},
            "cell_type": "code",
            "source": "train['Embarked_S'] = (train[\"Embarked\"] == 'S').astype(int)\ntrain['Embarked_C'] = (train[\"Embarked\"] == 'C').astype(int) \n##train['Embarked_Q'] = (train['Embarked'] == 'Q').astype(int) ## Essa coluna nao \u00e9 necess\u00e1ria pois se n\u00e3o embarcou nem no porto S nem no porto C, automaticamente embarcou no Q\n\ntrain['Null_cabin'] = train['Cabin'].isnull().astype(int)\ntrain['Nome_contem_miss'] = train['Name'].str.contains(\"Miss\").astype(int) ## str.astype \u00e9 equivalente ao like '%%' do SQl\ntrain['Nome_contem_col'] = train['Name'].str.contains(\"Col\").astype(int) ## str.astype \u00e9 equivalente ao like '%%' do SQl\ntrain['Nome_contem_major'] = train['Name'].str.contains(\"Major\").astype(int) ## str.astype \u00e9 equivalente ao like '%%' do SQl\ntrain['Nome_contem_mr'] = train['Name'].str.contains(\"Mr\").astype(int) ## str.astype \u00e9 equivalente ao like '%%' do SQl",
            "execution_count": 38,
            "outputs": []
        },
        {
            "metadata": {},
            "cell_type": "code",
            "source": "train['Nome_contem_mrs'] = train['Name'].str.contains(\"Mrs\").astype(int) ## str.astype \u00e9 equivalente ao like '%%' do SQl",
            "execution_count": 39,
            "outputs": []
        },
        {
            "metadata": {},
            "cell_type": "code",
            "source": "variaveis",
            "execution_count": 40,
            "outputs": [
                {
                    "output_type": "execute_result",
                    "execution_count": 40,
                    "data": {
                        "text/plain": "['Age', 'Sex_bin', 'Pclass', 'SibSp', 'Parch', 'Fare']"
                    },
                    "metadata": {}
                }
            ]
        },
        {
            "metadata": {},
            "cell_type": "code",
            "source": "variaveis = variaveis + ['Embarked_S','Embarked_C','Null_cabin','Nome_contem_miss','Nome_contem_col','Nome_contem_major','Nome_contem_mr']",
            "execution_count": 41,
            "outputs": []
        },
        {
            "metadata": {},
            "cell_type": "code",
            "source": "variaveis = variaveis + ['Nome_contem_mrs']",
            "execution_count": 42,
            "outputs": []
        },
        {
            "metadata": {},
            "cell_type": "code",
            "source": "x = train[variaveis]\nx= x.fillna(-1)\ny = train['Survived']\n",
            "execution_count": 43,
            "outputs": []
        },
        {
            "metadata": {},
            "cell_type": "code",
            "source": "from sklearn.linear_model import LogisticRegression",
            "execution_count": 44,
            "outputs": []
        },
        {
            "metadata": {},
            "cell_type": "code",
            "source": "resultados3 = []\n\nKfold = RepeatedKFold(n_splits = 2,n_repeats = 10, random_state = 0) ## mudando a random_state, a acc muda. 35 ate agora foi o melhor\n\nfor linhas_treino, linhas_teste in Kfold.split(x):\n    print(\"Treino: \", linhas_treino.shape[0]) \n    print(\"Teste: \", linhas_teste.shape[0])\n     \n    X_train, X_valid = x.iloc[linhas_treino], x.iloc[linhas_teste]\n    y_train, y_valid = y.iloc[linhas_treino], y.iloc[linhas_teste]\n    \n        \n    ##modelo = RandomForestClassifier(n_estimators = 100, n_jobs = -1, random_state = 0) -- vou tentar usar um modelo diferente.\n    modelo = LogisticRegression()\n    \n    modelo.fit(X_train, y_train)\n    p = modelo.predict(X_valid)\n    \n    acc = np.mean(y_valid == p )\n    resultados3.append(acc)\n    print(\"Acc:\", acc)\n    print()",
            "execution_count": 45,
            "outputs": [
                {
                    "output_type": "stream",
                    "text": "Treino:  445\nTeste:  446\nAcc: 0.8026905829596412\n\nTreino:  446\nTeste:  445\nAcc: 0.8179775280898877\n\nTreino:  445\nTeste:  446\nAcc: 0.7982062780269058\n\nTreino:  446\nTeste:  445\nAcc: 0.802247191011236\n\nTreino:  445\nTeste:  446\nAcc: 0.8071748878923767\n\nTreino:  446\nTeste:  445\nAcc: 0.7932584269662921\n\nTreino:  445\nTeste:  446\nAcc: 0.7959641255605381\n\nTreino:  446\nTeste:  445\nAcc: 0.8\n\nTreino:  445\nTeste:  446\nAcc: 0.7892376681614349\n\nTreino:  446\nTeste:  445\nAcc: 0.7955056179775281\n\nTreino:  445\nTeste:  446\nAcc: 0.7847533632286996\n\nTreino:  446\nTeste:  445\nAcc: 0.8044943820224719\n\nTreino:  445\nTeste:  446\nAcc: 0.7959641255605381\n\nTreino:  446\nTeste:  445\nAcc: 0.7910112359550562\n\nTreino:  445\nTeste:  446\nAcc: 0.773542600896861\n\nTreino:  446\nTeste:  445\nAcc: 0.8292134831460675\n\nTreino:  445\nTeste:  446\nAcc: 0.820627802690583\n\nTreino:  446\nTeste:  445\nAcc: 0.7820224719101123\n\nTreino:  445\nTeste:  446\nAcc: 0.7937219730941704\n\nTreino:  446\nTeste:  445\nAcc: 0.7910112359550562\n\n",
                    "name": "stdout"
                },
                {
                    "output_type": "stream",
                    "text": "/opt/conda/envs/Python36/lib/python3.6/site-packages/sklearn/linear_model/logistic.py:433: FutureWarning: Default solver will be changed to 'lbfgs' in 0.22. Specify a solver to silence this warning.\n  FutureWarning)\n/opt/conda/envs/Python36/lib/python3.6/site-packages/sklearn/linear_model/logistic.py:433: FutureWarning: Default solver will be changed to 'lbfgs' in 0.22. Specify a solver to silence this warning.\n  FutureWarning)\n/opt/conda/envs/Python36/lib/python3.6/site-packages/sklearn/linear_model/logistic.py:433: FutureWarning: Default solver will be changed to 'lbfgs' in 0.22. Specify a solver to silence this warning.\n  FutureWarning)\n/opt/conda/envs/Python36/lib/python3.6/site-packages/sklearn/linear_model/logistic.py:433: FutureWarning: Default solver will be changed to 'lbfgs' in 0.22. Specify a solver to silence this warning.\n  FutureWarning)\n/opt/conda/envs/Python36/lib/python3.6/site-packages/sklearn/linear_model/logistic.py:433: FutureWarning: Default solver will be changed to 'lbfgs' in 0.22. Specify a solver to silence this warning.\n  FutureWarning)\n/opt/conda/envs/Python36/lib/python3.6/site-packages/sklearn/linear_model/logistic.py:433: FutureWarning: Default solver will be changed to 'lbfgs' in 0.22. Specify a solver to silence this warning.\n  FutureWarning)\n/opt/conda/envs/Python36/lib/python3.6/site-packages/sklearn/linear_model/logistic.py:433: FutureWarning: Default solver will be changed to 'lbfgs' in 0.22. Specify a solver to silence this warning.\n  FutureWarning)\n/opt/conda/envs/Python36/lib/python3.6/site-packages/sklearn/linear_model/logistic.py:433: FutureWarning: Default solver will be changed to 'lbfgs' in 0.22. Specify a solver to silence this warning.\n  FutureWarning)\n/opt/conda/envs/Python36/lib/python3.6/site-packages/sklearn/linear_model/logistic.py:433: FutureWarning: Default solver will be changed to 'lbfgs' in 0.22. Specify a solver to silence this warning.\n  FutureWarning)\n/opt/conda/envs/Python36/lib/python3.6/site-packages/sklearn/linear_model/logistic.py:433: FutureWarning: Default solver will be changed to 'lbfgs' in 0.22. Specify a solver to silence this warning.\n  FutureWarning)\n/opt/conda/envs/Python36/lib/python3.6/site-packages/sklearn/linear_model/logistic.py:433: FutureWarning: Default solver will be changed to 'lbfgs' in 0.22. Specify a solver to silence this warning.\n  FutureWarning)\n/opt/conda/envs/Python36/lib/python3.6/site-packages/sklearn/linear_model/logistic.py:433: FutureWarning: Default solver will be changed to 'lbfgs' in 0.22. Specify a solver to silence this warning.\n  FutureWarning)\n/opt/conda/envs/Python36/lib/python3.6/site-packages/sklearn/linear_model/logistic.py:433: FutureWarning: Default solver will be changed to 'lbfgs' in 0.22. Specify a solver to silence this warning.\n  FutureWarning)\n/opt/conda/envs/Python36/lib/python3.6/site-packages/sklearn/linear_model/logistic.py:433: FutureWarning: Default solver will be changed to 'lbfgs' in 0.22. Specify a solver to silence this warning.\n  FutureWarning)\n/opt/conda/envs/Python36/lib/python3.6/site-packages/sklearn/linear_model/logistic.py:433: FutureWarning: Default solver will be changed to 'lbfgs' in 0.22. Specify a solver to silence this warning.\n  FutureWarning)\n/opt/conda/envs/Python36/lib/python3.6/site-packages/sklearn/linear_model/logistic.py:433: FutureWarning: Default solver will be changed to 'lbfgs' in 0.22. Specify a solver to silence this warning.\n  FutureWarning)\n/opt/conda/envs/Python36/lib/python3.6/site-packages/sklearn/linear_model/logistic.py:433: FutureWarning: Default solver will be changed to 'lbfgs' in 0.22. Specify a solver to silence this warning.\n  FutureWarning)\n/opt/conda/envs/Python36/lib/python3.6/site-packages/sklearn/linear_model/logistic.py:433: FutureWarning: Default solver will be changed to 'lbfgs' in 0.22. Specify a solver to silence this warning.\n  FutureWarning)\n/opt/conda/envs/Python36/lib/python3.6/site-packages/sklearn/linear_model/logistic.py:433: FutureWarning: Default solver will be changed to 'lbfgs' in 0.22. Specify a solver to silence this warning.\n  FutureWarning)\n/opt/conda/envs/Python36/lib/python3.6/site-packages/sklearn/linear_model/logistic.py:433: FutureWarning: Default solver will be changed to 'lbfgs' in 0.22. Specify a solver to silence this warning.\n  FutureWarning)\n",
                    "name": "stderr"
                }
            ]
        },
        {
            "metadata": {},
            "cell_type": "code",
            "source": "pylab.hist(resultados3), pylab.hist(resultados2, alpha = 0.8)",
            "execution_count": 46,
            "outputs": [
                {
                    "output_type": "execute_result",
                    "execution_count": 46,
                    "data": {
                        "text/plain": "((array([1., 1., 2., 5., 4., 3., 1., 1., 1., 1.]),\n  array([0.7735426 , 0.77910969, 0.78467678, 0.79024387, 0.79581095,\n         0.80137804, 0.80694513, 0.81251222, 0.81807931, 0.82364639,\n         0.82921348]),\n  <a list of 10 Patch objects>),\n (array([2., 3., 2., 3., 1., 1., 0., 3., 1., 4.]),\n  array([0.77578475, 0.78090291, 0.78602106, 0.79113921, 0.79625737,\n         0.80137552, 0.80649368, 0.81161183, 0.81672998, 0.82184814,\n         0.82696629]),\n  <a list of 10 Patch objects>))"
                    },
                    "metadata": {}
                },
                {
                    "output_type": "display_data",
                    "data": {
                        "text/plain": "<Figure size 432x288 with 1 Axes>",
                        "image/png": "[encoded data removed]"
                    },
                    "metadata": {
                        "needs_background": "light"
                    }
                }
            ]
        },
        {
            "metadata": {},
            "cell_type": "code",
            "source": "np.mean(resultados3)",
            "execution_count": 47,
            "outputs": [
                {
                    "output_type": "execute_result",
                    "execution_count": 47,
                    "data": {
                        "text/plain": "0.7984312490552727"
                    },
                    "metadata": {}
                }
            ]
        },
        {
            "metadata": {},
            "cell_type": "code",
            "source": "np.mean(resultados2)",
            "execution_count": 48,
            "outputs": [
                {
                    "output_type": "execute_result",
                    "execution_count": 48,
                    "data": {
                        "text/plain": "0.8014667204111454"
                    },
                    "metadata": {}
                }
            ]
        },
        {
            "metadata": {},
            "cell_type": "code",
            "source": "## Fun\u00e7\u00e3o p/ contar a qtd de palavras de uma string\n\ndef nw(string):\n    x = 0\n    for i in string: \n        if (i.isspace()):\n            x +=1\n        else: \n            x = x \n    return x",
            "execution_count": 49,
            "outputs": []
        },
        {
            "metadata": {
                "scrolled": true
            },
            "cell_type": "code",
            "source": "train['Qtd_cabins'] = train['Cabin'].map(nw)",
            "execution_count": 56,
            "outputs": []
        },
        {
            "metadata": {},
            "cell_type": "code",
            "source": "train['Cabin'] = str(train['Cabin'])",
            "execution_count": 55,
            "outputs": []
        },
        {
            "metadata": {},
            "cell_type": "code",
            "source": "train['Cabin']",
            "execution_count": 58,
            "outputs": [
                {
                    "output_type": "execute_result",
                    "execution_count": 58,
                    "data": {
                        "text/plain": "0      0              NaN\\n1              C85\\n2     ...\n1      0              NaN\\n1              C85\\n2     ...\n2      0              NaN\\n1              C85\\n2     ...\n3      0              NaN\\n1              C85\\n2     ...\n4      0              NaN\\n1              C85\\n2     ...\n5      0              NaN\\n1              C85\\n2     ...\n6      0              NaN\\n1              C85\\n2     ...\n7      0              NaN\\n1              C85\\n2     ...\n8      0              NaN\\n1              C85\\n2     ...\n9      0              NaN\\n1              C85\\n2     ...\n10     0              NaN\\n1              C85\\n2     ...\n11     0              NaN\\n1              C85\\n2     ...\n12     0              NaN\\n1              C85\\n2     ...\n13     0              NaN\\n1              C85\\n2     ...\n14     0              NaN\\n1              C85\\n2     ...\n15     0              NaN\\n1              C85\\n2     ...\n16     0              NaN\\n1              C85\\n2     ...\n17     0              NaN\\n1              C85\\n2     ...\n18     0              NaN\\n1              C85\\n2     ...\n19     0              NaN\\n1              C85\\n2     ...\n20     0              NaN\\n1              C85\\n2     ...\n21     0              NaN\\n1              C85\\n2     ...\n22     0              NaN\\n1              C85\\n2     ...\n23     0              NaN\\n1              C85\\n2     ...\n24     0              NaN\\n1              C85\\n2     ...\n25     0              NaN\\n1              C85\\n2     ...\n26     0              NaN\\n1              C85\\n2     ...\n27     0              NaN\\n1              C85\\n2     ...\n28     0              NaN\\n1              C85\\n2     ...\n29     0              NaN\\n1              C85\\n2     ...\n                             ...                        \n861    0              NaN\\n1              C85\\n2     ...\n862    0              NaN\\n1              C85\\n2     ...\n863    0              NaN\\n1              C85\\n2     ...\n864    0              NaN\\n1              C85\\n2     ...\n865    0              NaN\\n1              C85\\n2     ...\n866    0              NaN\\n1              C85\\n2     ...\n867    0              NaN\\n1              C85\\n2     ...\n868    0              NaN\\n1              C85\\n2     ...\n869    0              NaN\\n1              C85\\n2     ...\n870    0              NaN\\n1              C85\\n2     ...\n871    0              NaN\\n1              C85\\n2     ...\n872    0              NaN\\n1              C85\\n2     ...\n873    0              NaN\\n1              C85\\n2     ...\n874    0              NaN\\n1              C85\\n2     ...\n875    0              NaN\\n1              C85\\n2     ...\n876    0              NaN\\n1              C85\\n2     ...\n877    0              NaN\\n1              C85\\n2     ...\n878    0              NaN\\n1              C85\\n2     ...\n879    0              NaN\\n1              C85\\n2     ...\n880    0              NaN\\n1              C85\\n2     ...\n881    0              NaN\\n1              C85\\n2     ...\n882    0              NaN\\n1              C85\\n2     ...\n883    0              NaN\\n1              C85\\n2     ...\n884    0              NaN\\n1              C85\\n2     ...\n885    0              NaN\\n1              C85\\n2     ...\n886    0              NaN\\n1              C85\\n2     ...\n887    0              NaN\\n1              C85\\n2     ...\n888    0              NaN\\n1              C85\\n2     ...\n889    0              NaN\\n1              C85\\n2     ...\n890    0              NaN\\n1              C85\\n2     ...\nName: Cabin, Length: 891, dtype: object"
                    },
                    "metadata": {}
                }
            ]
        },
        {
            "metadata": {},
            "cell_type": "code",
            "source": "##teste",
            "execution_count": null,
            "outputs": []
        },
        {
            "metadata": {},
            "cell_type": "code",
            "source": "test['Sex_bin'] = test['Sex'].map(sex_bin)\nx = x.fillna(-1)\ntest[variaveis]\ntest = test.fillna(-1)",
            "execution_count": null,
            "outputs": []
        },
        {
            "metadata": {},
            "cell_type": "code",
            "source": "modelo = RandomForestClassifier(n_estimators = 100,\n                                    n_jobs = -1, \n                                    random_state = 0)\nmodelo.fit(x,y)\np = modelo.predict(test[variaveis])",
            "execution_count": null,
            "outputs": []
        },
        {
            "metadata": {},
            "cell_type": "markdown",
            "source": "## Criar submission no Kaggle p/ obter acuracia do teste"
        },
        {
            "metadata": {},
            "cell_type": "code",
            "source": "sub = pd.Series(p, index=test['PassengerId'], name = 'Survived')\nsub.shape",
            "execution_count": null,
            "outputs": []
        },
        {
            "metadata": {},
            "cell_type": "code",
            "source": "sub.to_csv(\"modelo.csv\", header = True)",
            "execution_count": null,
            "outputs": []
        },
        {
            "metadata": {},
            "cell_type": "code",
            "source": "!head -n10 modelo.csv",
            "execution_count": null,
            "outputs": []
        },
        {
            "metadata": {},
            "cell_type": "code",
            "source": "",
            "execution_count": null,
            "outputs": []
        },
        {
            "metadata": {},
            "cell_type": "code",
            "source": "",
            "execution_count": null,
            "outputs": []
        }
    ],
    "metadata": {
        "kernelspec": {
            "name": "python3",
            "display_name": "Python 3.6",
            "language": "python"
        },
        "language_info": {
            "name": "python",
            "version": "3.6.9",
            "mimetype": "text/x-python",
            "codemirror_mode": {
                "name": "ipython",
                "version": 3
            },
            "pygments_lexer": "ipython3",
            "nbconvert_exporter": "python",
            "file_extension": ".py"
        }
    },
    "nbformat": 4,
    "nbformat_minor": 1
}